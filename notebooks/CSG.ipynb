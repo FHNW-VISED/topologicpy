{
 "cells": [
  {
   "cell_type": "markdown",
   "id": "64eac521",
   "metadata": {},
   "source": [
    "## Tutorial on how to create, invoke, and display a Constructive Solid Geometry (CSG) Tree Graph\n",
    "https://en.wikipedia.org/wiki/Constructive_solid_geometry"
   ]
  },
  {
   "cell_type": "code",
   "execution_count": null,
   "id": "8c44e579",
   "metadata": {},
   "outputs": [],
   "source": [
    "# Import TopologicPy modules. This is not needed on other computers\n",
    "import sys\n",
    "sys.path.append(\"C:/Users/sarwj/OneDrive - Cardiff University/Documents/GitHub/topologicpy/src\")"
   ]
  },
  {
   "cell_type": "markdown",
   "id": "f99a6830",
   "metadata": {},
   "source": [
    "### Import the needed libraries"
   ]
  },
  {
   "cell_type": "code",
   "execution_count": null,
   "id": "e936da63",
   "metadata": {},
   "outputs": [],
   "source": [
    "from topologicpy.Cell import Cell\n",
    "from topologicpy.Topology import Topology\n",
    "from topologicpy.Cluster import Cluster\n",
    "from topologicpy.Graph import Graph\n",
    "from topologicpy.Plotly import Plotly\n",
    "from topologicpy.Helper import Helper\n",
    "from topologicpy.CSG import CSG\n",
    "print(\"This jupyter notebook requires topologicpy v.0.8.23 or newer\")\n",
    "print(Helper.Version())"
   ]
  },
  {
   "cell_type": "markdown",
   "id": "32a5c307",
   "metadata": {},
   "source": [
    "### Initialize the CSG Tree Graph"
   ]
  },
  {
   "cell_type": "code",
   "execution_count": null,
   "id": "c702cce7",
   "metadata": {},
   "outputs": [],
   "source": [
    "csg_graph = CSG.Init()\n",
    "print(\"CSG Graph:\", csg_graph)"
   ]
  },
  {
   "cell_type": "markdown",
   "id": "ad1f09d7",
   "metadata": {},
   "source": [
    "### Create Topology Vertices (i.e. Primitives)\n",
    "In this tutorial, two cylinders will be unioned to form a cross-shape and then they will be subtracted from a cube.\n",
    "\n",
    "Each topology is represented by a topology vertex in the CSG graph.\n",
    "\n",
    "Topology vertices should only be connected to one and only one operation vertex (see below)."
   ]
  },
  {
   "cell_type": "code",
   "execution_count": null,
   "id": "a388f866",
   "metadata": {},
   "outputs": [],
   "source": [
    "# Create geometry vertices\n",
    "cylinder_1 = Cell.Cylinder(radius=0.4, height=2)\n",
    "v_cylinder_1 = CSG.AddTopologyVertex(csg_graph, cylinder_1, matrix=None, mantissa=6, tolerance=0.0001)\n",
    "\n",
    "cylinder_2 = Cell.Cylinder(radius=0.4, height=2, direction=[1,0,0])\n",
    "v_cylinder_2 = CSG.AddTopologyVertex(csg_graph, cylinder_2, matrix=None, mantissa=6, tolerance=0.0001)\n",
    "\n",
    "cube = Cell.Cube(size=1)\n",
    "v_cube = CSG.AddTopologyVertex(csg_graph, cube, matrix=None, mantissa=6, tolerance=0.0001)\n",
    "print(\"Done creating the topology vertices\")"
   ]
  },
  {
   "cell_type": "markdown",
   "id": "b932c74e",
   "metadata": {},
   "source": [
    "### Create the Operations Vertices (i.e. Boolean operations)\n",
    "\n",
    "Boolean operations are also represented as vertices in the CSG graph. Each operation vertex should be connected to two and only two other vertices. These child vertices can be either a topology vertex or another operation vertex."
   ]
  },
  {
   "cell_type": "code",
   "execution_count": null,
   "id": "7719b324",
   "metadata": {},
   "outputs": [],
   "source": [
    "# Create union operation vertex\n",
    "v_union = CSG.AddOperationVertex(csg_graph, \"UNION\", a=v_cylinder_1, b=v_cylinder_2, tolerance=0.0001)\n",
    "\n",
    "# Create difference operation vertex (root)\n",
    "v_diff =CSG.AddOperationVertex(csg_graph, \"DIFFERENCE\", a=v_cube, b=v_union, tolerance=0.0001)"
   ]
  },
  {
   "cell_type": "markdown",
   "id": "a8211823",
   "metadata": {},
   "source": [
    "### Create the graph edges by \"connecting\" the previously created vertices."
   ]
  },
  {
   "cell_type": "code",
   "execution_count": null,
   "id": "a3fc3e99",
   "metadata": {},
   "outputs": [],
   "source": [
    "# Create Edges from children to parent\n",
    "csg_graph = CSG.Connect(csg_graph, v_cylinder_1, v_union)\n",
    "csg_graph = CSG.Connect(csg_graph, v_cylinder_2, v_union)\n",
    "csg_graph = CSG.Connect(csg_graph, v_cube, v_diff)\n",
    "csg_graph = CSG.Connect(csg_graph, v_union, v_diff)"
   ]
  },
  {
   "cell_type": "markdown",
   "id": "aa5ad8ac",
   "metadata": {},
   "source": [
    "### Reshape the graph as a tree with the last operation (e.g. v_diff) as its root"
   ]
  },
  {
   "cell_type": "code",
   "execution_count": null,
   "id": "5f66505a",
   "metadata": {},
   "outputs": [],
   "source": [
    "csg_graph = Graph.Reshape(csg_graph, shape=\"Tree 2D\", rootVertex=v_diff)"
   ]
  },
  {
   "cell_type": "markdown",
   "id": "d225f919",
   "metadata": {},
   "source": [
    "### Invoke the graph to solve for the final shape"
   ]
  },
  {
   "cell_type": "code",
   "execution_count": null,
   "id": "3decad16",
   "metadata": {},
   "outputs": [],
   "source": [
    "final_geometry = CSG.Invoke(csg_graph)\n",
    "Topology.Show(final_geometry)"
   ]
  },
  {
   "cell_type": "markdown",
   "id": "f214d8e9",
   "metadata": {},
   "source": [
    "### Show the graph and the topologies placed at each graph vertex"
   ]
  },
  {
   "cell_type": "code",
   "execution_count": null,
   "id": "5617fc3d",
   "metadata": {},
   "outputs": [],
   "source": [
    "topologies = CSG.Topologies(csg_graph, xOffset=0, yOffset=0, zOffset=-0.4, scale=0.4)\n",
    "data_graph = Plotly.DataByGraph(csg_graph, vertexSize=8, edgeWidth=4, showVertexLabel=True, vertexLabelKey=\"operation\")\n",
    "data_top = Plotly.DataByTopology(Cluster.ByTopologies(topologies))\n",
    "figure = Plotly.FigureByData(data_graph+data_top)\n",
    "Plotly.Show(figure)"
   ]
  }
 ],
 "metadata": {
  "kernelspec": {
   "display_name": "Python 3",
   "language": "python",
   "name": "python3"
  },
  "language_info": {
   "codemirror_mode": {
    "name": "ipython",
    "version": 3
   },
   "file_extension": ".py",
   "mimetype": "text/x-python",
   "name": "python",
   "nbconvert_exporter": "python",
   "pygments_lexer": "ipython3",
   "version": "3.11.9"
  }
 },
 "nbformat": 4,
 "nbformat_minor": 5
}
