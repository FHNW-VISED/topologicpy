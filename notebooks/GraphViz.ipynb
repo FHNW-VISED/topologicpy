{
 "cells": [
  {
   "cell_type": "markdown",
   "id": "a5a5d463",
   "metadata": {},
   "source": [
    "## Tutorial on how to convert a Topologic Graph to a GraphViz Graph\n",
    "### You must first correctly and separately install GraphViz"
   ]
  },
  {
   "cell_type": "code",
   "execution_count": null,
   "id": "b417041d",
   "metadata": {},
   "outputs": [],
   "source": [
    "# Import TopologicPy modules. This is not needed on other computers\n",
    "import sys\n",
    "sys.path.append(\"C:/Users/sarwj/OneDrive - Cardiff University/Documents/GitHub/topologicpy/src\")"
   ]
  },
  {
   "cell_type": "markdown",
   "id": "1366c21a",
   "metadata": {},
   "source": [
    "## Import the needed libraries\n",
    "### Make sure you have the latest version of TopologicPy (0.8.24 or newer)"
   ]
  },
  {
   "cell_type": "code",
   "execution_count": null,
   "id": "1168ac19",
   "metadata": {},
   "outputs": [],
   "source": [
    "from topologicpy.CellComplex import CellComplex\n",
    "from topologicpy.Topology import Topology\n",
    "from topologicpy.Dictionary import Dictionary\n",
    "from topologicpy.Graph import Graph\n",
    "from topologicpy.Helper import Helper\n",
    "print(\"This jupyter notebook requires topologicpy v.0.8.24 or newer\")\n",
    "print(Helper.Version())"
   ]
  },
  {
   "cell_type": "markdown",
   "id": "8d2962cc",
   "metadata": {},
   "source": [
    "## Create a sample CellComplex and derive its dual graph"
   ]
  },
  {
   "cell_type": "code",
   "execution_count": null,
   "id": "9a28b9ce",
   "metadata": {},
   "outputs": [],
   "source": [
    "cc = CellComplex.Prism(uSides=3)\n",
    "cells = Topology.Cells(cc)\n",
    "for i, cell in enumerate(cells):\n",
    "    d = Dictionary.ByKeysValues([\"vertexLabel\",\"vertexShape\",\"vertexFillColor\"], [f\"Cell {i+1}\", \"circle\", \"yellow\"])\n",
    "    cell = Topology.SetDictionary(cell, d)\n",
    "\n",
    "faces = Topology.Faces(cc)\n",
    "for i, face in enumerate(faces):\n",
    "    d = Dictionary.ByKeysValues([\"vertexLabel\",\"vertexShape\",\"vertexFillColor\"], [f\"Face {i+1}\", \"box\", \"lightgrey\"])\n",
    "    face = Topology.SetDictionary(face, d)\n",
    "g = Graph.ByTopology(cc, toExteriorTopologies=True)\n",
    "graph_edges = Graph.Edges(g)\n",
    "colors = [\"red\", \"blue\", \"green\", \"cyan\", \"magenta\", \"yellow\", \"black\", \"brown\", \"orange\"]\n",
    "widths = [0.1, 0.2, 0.3, 0.4, 0.5, 0.6]\n",
    "for e in graph_edges:\n",
    "    d = Topology.Dictionary(e)\n",
    "    category = Dictionary.ValueAtKey(d, \"category\")\n",
    "    edge_color = colors[category]\n",
    "    edge_width = widths[category]\n",
    "    d = Dictionary.SetValuesAtKeys(d, [\"edgeColor\", \"edgeWidth\"], [edge_color, edge_width])\n",
    "    e = Topology.SetDictionary(e, d)\n",
    "Topology.Show(cc, g)"
   ]
  },
  {
   "cell_type": "markdown",
   "id": "6a89cd32",
   "metadata": {},
   "source": [
    "## Convert the topologic graph to a GraphViz Graph"
   ]
  },
  {
   "cell_type": "code",
   "execution_count": null,
   "id": "13f4cd4c",
   "metadata": {},
   "outputs": [],
   "source": [
    "gv_graph = Graph.GraphVizGraph(g,\n",
    "                               layout=\"dot\",\n",
    "                               splines=\"ortho\",\n",
    "                               showVertexLabel=True,\n",
    "                               vertexLabelKey=\"vertexLabel\",\n",
    "                               vertexWidth=0.7,\n",
    "                               vertexHeight=0.7,\n",
    "                               vertexFixedSize=True,\n",
    "                               vertexShapeKey=\"vertexShape\",\n",
    "                               vertexFillColorKey=\"vertexFillColor\",\n",
    "                               edgeWidthKey=\"edgeWidth\",\n",
    "                               edgeColorKey=\"edgeColor\")"
   ]
  },
  {
   "cell_type": "markdown",
   "id": "a5962e85",
   "metadata": {},
   "source": [
    "## Display the GraphViz Graph"
   ]
  },
  {
   "cell_type": "code",
   "execution_count": null,
   "id": "0f54808e",
   "metadata": {},
   "outputs": [],
   "source": [
    "gv_graph"
   ]
  },
  {
   "cell_type": "markdown",
   "id": "2b1bab4a",
   "metadata": {},
   "source": [
    "## Export the dual graph to a GraphViz .gv file\n",
    "### Make sure you change the path first"
   ]
  },
  {
   "cell_type": "code",
   "execution_count": null,
   "id": "cd3aa108",
   "metadata": {},
   "outputs": [],
   "source": [
    "# Change the Path!\n",
    "path = path=\"C:/Users/sarwj/OneDrive - Cardiff University/Documents/test.gv\"\n",
    "status = Graph.ExportToGraphVizGraph(g, path=path, layout=\"dot\", splines=\"ortho\", showVertexLabel=True, vertexLabelKey=\"vertexLabel\", vertexWidth=0.1, vertexHeight=0.1, vertexFixedSize=True, vertexShapeKey=\"vertexShape\", vertexFillColorKey=\"vertexFillColor\", edgeWidthKey=\"edgeWidth\", overwrite=True)\n",
    "print(status)"
   ]
  }
 ],
 "metadata": {
  "kernelspec": {
   "display_name": "Python 3",
   "language": "python",
   "name": "python3"
  },
  "language_info": {
   "codemirror_mode": {
    "name": "ipython",
    "version": 3
   },
   "file_extension": ".py",
   "mimetype": "text/x-python",
   "name": "python",
   "nbconvert_exporter": "python",
   "pygments_lexer": "ipython3",
   "version": "3.11.9"
  }
 },
 "nbformat": 4,
 "nbformat_minor": 5
}
