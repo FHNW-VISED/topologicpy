{
 "cells": [
  {
   "cell_type": "code",
   "execution_count": 7,
   "metadata": {},
   "outputs": [],
   "source": [
    "# Import TopologicPy modules. This is not needed on other computers\n",
    "import sys\n",
    "sys.path.append(\"C:/Users/sarwj/OneDrive - Cardiff University/Documents/GitHub/topologicpy/src\")\n",
    "\n",
    "\n",
    "# Importing the Topologic library and related modules\n",
    "from topologicpy.Vertex import Vertex\n",
    "from topologicpy.Edge import Edge\n",
    "from topologicpy.Face import Face\n",
    "from topologicpy.Cell import Cell\n",
    "from topologicpy.Wire import Wire\n",
    "from topologicpy.CellComplex import CellComplex\n",
    "from topologicpy.Cluster import Cluster\n",
    "from topologicpy.Topology import Topology\n",
    "from topologicpy.Dictionary import Dictionary\n",
    "from topologicpy.Graph import Graph\n",
    "from topologicpy.Helper import Helper\n",
    "from topologicpy.Matrix import Matrix"
   ]
  },
  {
   "cell_type": "markdown",
   "metadata": {},
   "source": [
    "## Create Randomly positioned objects"
   ]
  },
  {
   "cell_type": "code",
   "execution_count": null,
   "metadata": {},
   "outputs": [],
   "source": [
    "#Create two copies of a Prism object and translate, scale, and rotate them differently\n",
    "prism01 = CellComplex.Prism(width=1, length=2, height=3, uSides=3, vSides=3, wSides=3)\n",
    "prism02 = CellComplex.Prism(width=1, length=2, height=3, uSides=4, vSides=4, wSides=4) # Segemented more\n",
    "\n",
    "# Object 01\n",
    "obj01 = Topology.Translate(prism01, 6, 4, 5)\n",
    "obj01 = Topology.Rotate(obj01, axis=[1,1,1], angle=32.5)\n",
    "obj02 = Topology.Scale(obj01, origin=Topology.Centroid(obj01), x=1.2, y=1.2, z=1.2)\n",
    "\n",
    "# Object 02\n",
    "obj02 = Topology.Translate(prism02, 5.4, -2, 6)\n",
    "obj02 = Topology.Rotate(obj02, axis=[1,1,0.6], angle=90)\n",
    "obj02 = Topology.Scale(obj02, origin=Topology.Centroid(obj02), x=2, y=2, z=2)\n",
    "\n",
    "# Show the result\n",
    "Topology.Show(obj01, obj02)"
   ]
  },
  {
   "cell_type": "markdown",
   "metadata": {},
   "source": [
    "## Get the Principal Axes of each object"
   ]
  },
  {
   "cell_type": "code",
   "execution_count": null,
   "metadata": {},
   "outputs": [],
   "source": [
    "# Object 01\n",
    "x_axis01, y_axis01, z_axis01 = Topology.PrincipalAxes(obj01)\n",
    "centroid01 = Topology.Centroid(obj01)\n",
    "x_edge01 = Edge.ByOriginDirectionLength(origin=centroid01, direction=x_axis01, length=5)\n",
    "y_edge01 = Edge.ByOriginDirectionLength(origin=centroid01, direction=y_axis01, length=5)\n",
    "z_edge01 = Edge.ByOriginDirectionLength(origin=centroid01, direction=z_axis01, length=5)\n",
    "\n",
    "# Object 02\n",
    "x_axis02, y_axis02, z_axis02 = Topology.PrincipalAxes(obj02)\n",
    "centroid02 = Topology.Centroid(obj02)\n",
    "x_edge02 = Edge.ByOriginDirectionLength(origin=centroid02, direction=x_axis02, length=5)\n",
    "y_edge02 = Edge.ByOriginDirectionLength(origin=centroid02, direction=y_axis02, length=5)\n",
    "z_edge02 = Edge.ByOriginDirectionLength(origin=centroid02, direction=z_axis02, length=5)\n",
    "\n",
    "# Show the result\n",
    "Topology.Show(obj01, x_edge01, y_edge01, z_edge01, obj02, x_edge02, y_edge02, z_edge02)"
   ]
  },
  {
   "cell_type": "markdown",
   "metadata": {},
   "source": [
    "## Get the Canonical Matrix of each object"
   ]
  },
  {
   "cell_type": "code",
   "execution_count": null,
   "metadata": {},
   "outputs": [],
   "source": [
    "# Object 01\n",
    "mat01 = Topology.CanonicalMatrix(obj01, normalize=False)\n",
    "can_obj01 = Topology.Transform(obj01, mat01)\n",
    "\n",
    "# Object 02\n",
    "mat02 = Topology.CanonicalMatrix(obj02, normalize=False)\n",
    "can_obj02 = Topology.Transform(obj02, mat02)\n",
    "\n",
    "# Show the result\n",
    "Topology.Show(can_obj01, obj01, x_edge01, y_edge01, can_obj02, obj02, x_edge02, y_edge02, z_edge02, xAxis=True, yAxis=True, zAxis=True, axisSize=6)"
   ]
  },
  {
   "cell_type": "code",
   "execution_count": null,
   "metadata": {},
   "outputs": [],
   "source": [
    "Topology.Show(can_obj01, can_obj02, xAxis=True, yAxis=True, zAxis=True, axisSize=6)"
   ]
  },
  {
   "cell_type": "markdown",
   "metadata": {},
   "source": [
    "## Transform the second canonical object to match the first original object"
   ]
  },
  {
   "cell_type": "code",
   "execution_count": null,
   "metadata": {},
   "outputs": [],
   "source": [
    "# Get the inverse of the first matrix.\n",
    "mat01_invert = Matrix.Invert(mat01)\n",
    "\n",
    "# Apply this inverse matrix to the canonical representation of the second object.\n",
    "obj03 = Topology.Transform(can_obj02, mat01_invert)\n",
    "\n",
    "# Show the result. obj01 and obj03 should overlap.\n",
    "Topology.Show(obj01, obj03, faceOpacity=0.2, xAxis=True, yAxis=True, zAxis=True)"
   ]
  }
 ],
 "metadata": {
  "kernelspec": {
   "display_name": "Python 3",
   "language": "python",
   "name": "python3"
  },
  "language_info": {
   "codemirror_mode": {
    "name": "ipython",
    "version": 3
   },
   "file_extension": ".py",
   "mimetype": "text/x-python",
   "name": "python",
   "nbconvert_exporter": "python",
   "pygments_lexer": "ipython3",
   "version": "3.11.9"
  }
 },
 "nbformat": 4,
 "nbformat_minor": 2
}
