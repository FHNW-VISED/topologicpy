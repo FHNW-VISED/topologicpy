{
 "cells": [
  {
   "cell_type": "markdown",
   "id": "5bd2884e",
   "metadata": {},
   "source": [
    "Import IFC"
   ]
  },
  {
   "cell_type": "code",
   "execution_count": 8,
   "id": "3321055e-03fc-4d66-8051-c3e548b85ac0",
   "metadata": {},
   "outputs": [],
   "source": [
    "# Import TopologicPy modules\n",
    "import sys\n",
    "sys.path.append(\"C:/Users/sarwj/OneDrive - Cardiff University/Documents/GitHub/topologicpy/src\")"
   ]
  },
  {
   "cell_type": "code",
   "execution_count": null,
   "id": "dab73323",
   "metadata": {},
   "outputs": [],
   "source": [
    "from topologicpy.Topology import Topology\n",
    "from topologicpy.Dictionary import Dictionary\n",
    "from topologicpy.Graph import Graph\n",
    "from topologicpy.Helper import Helper\n",
    "\n",
    "print(Helper.Version())"
   ]
  },
  {
   "cell_type": "code",
   "execution_count": 10,
   "id": "86029d47",
   "metadata": {},
   "outputs": [],
   "source": [
    "# ******** CHANGE THIS PATH TO POINT TO YOUR OWN IFC FILE ********\n",
    "ifc_file_path = r\"C:\\Users\\sarwj\\Downloads\\IFC2x3_Duplex_Difference_1.ifc\"\n"
   ]
  },
  {
   "cell_type": "code",
   "execution_count": 11,
   "id": "5bfaa643",
   "metadata": {},
   "outputs": [],
   "source": [
    "# ****** CHANGE THIS LIST TO CHOOSE WHAT YOU WANT TO IMPORT FROM YOUR IFC FILE *******\n",
    "include_types=[\"IfcSpace\", \"IfcSlab\", \"IfcRoof\", \"IfcWall\", \"IfcWallStandardCase\", \"IfcDoor\", \"IfcWindow\"]"
   ]
  },
  {
   "cell_type": "code",
   "execution_count": null,
   "id": "b49221ef",
   "metadata": {},
   "outputs": [],
   "source": [
    "# Create a graph from the IFC path\n",
    "graph1 = Graph.ByIFCPath(ifc_file_path,\n",
    "                        includeTypes= include_types,\n",
    "                        transferDictionaries=True,\n",
    "                        useInternalVertex=True,\n",
    "                        storeBREP=True,\n",
    "                        removeCoplanarFaces=True)\n",
    "\n",
    "# Extract the topologies from the vertices of the graph\n",
    "topologies = []\n",
    "rogue_vertices = [] # These are rogue vertices that have no topology associated with them.\n",
    "for v in Graph.Vertices(graph1):\n",
    "    d = Topology.Dictionary(v)\n",
    "    brep_string = Dictionary.ValueAtKey(d, \"brep\")\n",
    "    if brep_string:\n",
    "        topology = Topology.ByBREPString(brep_string)\n",
    "        if Topology.IsInstance(topology, \"Topology\"):\n",
    "            topology = Topology.SetDictionary(topology, d)\n",
    "            topologies.append(topology)\n",
    "        else:\n",
    "            rogue_vertices.append(v)\n",
    "    else:\n",
    "        rogue_vertices.append(v)\n",
    "\n",
    "# Remove rogue vertices from the graph\n",
    "for rogue_vertex in rogue_vertices:\n",
    "    graph1 = Graph.RemoveVertex(graph1, rogue_vertex)\n",
    "\n",
    "# Give the graph a fake IFC name to be displayed in the legend.\n",
    "d = Dictionary.ByKeyValue(\"IFC_name\", \"Graph\")\n",
    "graph1 = Graph.SetDictionary(graph1, d)\n",
    "print(\"Done\")"
   ]
  },
  {
   "cell_type": "code",
   "execution_count": 13,
   "id": "56fa6539",
   "metadata": {},
   "outputs": [],
   "source": [
    "centralities = Graph.ClosenessCentrality(graph1, silent=False)\n",
    "vertices = Graph.Vertices(graph1)\n",
    "for v in vertices:\n",
    "    d = Topology.Dictionary(v)\n",
    "    c = Dictionary.ValueAtKey(d,\"closeness_centrality\")\n",
    "    d = Dictionary.SetValueAtKey(d, \"closeness_centrality\", c*20+4)\n",
    "    v = Topology.SetDictionary(v, d)"
   ]
  },
  {
   "cell_type": "code",
   "execution_count": null,
   "id": "a5c3aaad",
   "metadata": {},
   "outputs": [],
   "source": [
    "# Choose a renderer that works for your environment\n",
    "\n",
    "# renderer=\"browser\"\n",
    "# renderer=\"jupyterlab\"\n",
    "renderer=\"vscode\"\n",
    "\n",
    "# Draw the topologies and the graph with color-coding\n",
    "Topology.Show(topologies, graph1,\n",
    "              nameKey=\"IFC_name\",\n",
    "              sagitta= 0.05,\n",
    "              absolute=False,\n",
    "              faceOpacity=0.1,\n",
    "              vertexSizeKey=\"closeness_centrality\",\n",
    "              vertexLabelKey=\"IFC_name\",\n",
    "              vertexGroupKey=\"IFC_type\",\n",
    "              vertexGroups=[\"Unknown\", \"IfcSpace\", \"IfcSlab\", \"IfcRoof\", \"IfcWall\", \"IfcWallStandardCase\", \"IfcDoor\", \"IfcWindow\"],\n",
    "              showVertexLegend = False,\n",
    "              showEdgeLegend = False,\n",
    "              showFaceLegend = False,\n",
    "              backgroundColor=\"white\",\n",
    "              width=1024,\n",
    "              height=900,\n",
    "              renderer=renderer)"
   ]
  }
 ],
 "metadata": {
  "kernelspec": {
   "display_name": "Python 3",
   "language": "python",
   "name": "python3"
  },
  "language_info": {
   "codemirror_mode": {
    "name": "ipython",
    "version": 3
   },
   "file_extension": ".py",
   "mimetype": "text/x-python",
   "name": "python",
   "nbconvert_exporter": "python",
   "pygments_lexer": "ipython3",
   "version": "3.11.9"
  }
 },
 "nbformat": 4,
 "nbformat_minor": 5
}
