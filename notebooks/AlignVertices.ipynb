{
 "cells": [
  {
   "cell_type": "code",
   "execution_count": null,
   "metadata": {},
   "outputs": [],
   "source": [
    "# Import TopologicPy modules. This is not needed on other computers\n",
    "import sys\n",
    "sys.path.append(\"C:/Users/sarwj/OneDrive - Cardiff University/Documents/GitHub/topologicpy/src\")\n",
    "\n",
    "from topologicpy.Vertex import Vertex\n",
    "from topologicpy.Face import Face\n",
    "from topologicpy.Cell import Cell\n",
    "from topologicpy.CellComplex import CellComplex\n",
    "from topologicpy.Graph import Graph\n",
    "from topologicpy.Topology import Topology\n",
    "from topologicpy.Dictionary import Dictionary\n",
    "from topologicpy.Vector import Vector\n",
    "from topologicpy.Helper import Helper\n",
    "print(Helper.Version())"
   ]
  },
  {
   "cell_type": "code",
   "execution_count": null,
   "metadata": {},
   "outputs": [],
   "source": [
    "# Choose your rendering environment\n",
    "renderer = \"vscode\"\n",
    "# renderer = \"notebook\"\n",
    "# renderer = \"jupyterlab\"\n",
    "# renderer = \"colab\"\n",
    "# renderer = \"browser\"\n",
    "\n",
    "v1 = Vertex.ByCoordinates(10, 5, 1.5)\n",
    "v2 = Vertex.ByCoordinates(5, 15, 1.5)\n",
    "v3 = Vertex.ByCoordinates(30, 10, 4.5)\n",
    "v4 = Vertex.ByCoordinates(20, 25, 4.5)\n",
    "v5 = Vertex.ByCoordinates(11.5, 5, 4.5)\n",
    "v6 = Vertex.ByCoordinates(5, 15, 4.5)\n",
    "v7 = Vertex.ByCoordinates(15.1, 15, 4.5)\n",
    "v8 = Vertex.ByCoordinates(11.8, 5, 8)\n",
    "\n",
    "c1 = Cell.Prism(origin=v1, width=19.8, length=9.8, height=2.8)\n",
    "c2 = Cell.Prism(origin=v2, width=9.8, length=9.8, height=2.8)\n",
    "c3 = Cell.Prism(origin=v3, width=19.8, length=19.8, height=8.2)\n",
    "extension = Cell.Prism(origin=v7, width=10, length=9.8, height=8.2)\n",
    "c3 = Topology.Union(c3, extension)\n",
    "c3 = Topology.RemoveCoplanarFaces(c3)\n",
    "c4 = Cell.Wedge(origin=v4, width=39.8, length=9.8, height=8.8, flipHorizontal=True)\n",
    "c5 = Cell.Prism(origin=v5, width=16, length=9.8, height=2.6)\n",
    "c6 = Cell.Prism(origin=v6, width=9.8, length=9.8, height=2.8)\n",
    "c7 = Cell.Wedge(origin=v8, width=16, length=9.8, height=4, flipHorizontal=True)\n",
    "\n",
    "spaces = [c1, c2, c3, c4, c5, c6, c7]\n",
    "Topology.Show(spaces, renderer=renderer)\n"
   ]
  },
  {
   "cell_type": "code",
   "execution_count": null,
   "metadata": {},
   "outputs": [],
   "source": [
    "# Grids\n",
    "x_list = [0, 3.5, 10, 20, 40]\n",
    "y_list = [0, 10, 20, 30]\n",
    "z_list = [0, 3, 6, 9]\n",
    "new_spaces = []\n",
    "for space in spaces:\n",
    "    vertices = Topology.Vertices(space)\n",
    "    new_vertices = []\n",
    "    for v in vertices:\n",
    "        new_v = Vertex.AlignCoordinates(v, xList=x_list, yList=y_list, zList=z_list, xEpsilon=0.81, yEpsilon=0.51, zEpsilon= 0.51)\n",
    "        new_vertices.append(new_v)\n",
    "    new_space = Topology.SelfMerge(Topology.ReplaceVertices(space, verticesA = vertices, verticesB = new_vertices))\n",
    "    new_spaces.append(new_space)\n",
    "\n",
    "cellComplex = CellComplex.ByCells(new_spaces)\n",
    "g = Graph.ByTopology(cellComplex, direct=False, viaSharedTopologies=True)\n",
    "Topology.Show(cellComplex, g, renderer=renderer)"
   ]
  },
  {
   "cell_type": "code",
   "execution_count": null,
   "metadata": {},
   "outputs": [],
   "source": [
    "from topologicpy.Face import Face\n",
    "\n",
    "cells = Topology.Cells(cellComplex)\n",
    "visited = []\n",
    "for i, cell_a in enumerate(cells):\n",
    "    for j, cell_b in enumerate(cells):\n",
    "        if i != j and not (i,j) in visited:\n",
    "            edges_a = Topology.Edges(cell_a)\n",
    "            edges_b = Topology.Edges(cell_b)\n",
    "            total_area = 0\n",
    "            dict = Topology.SharedTopologies(cell_a, cell_b)\n",
    "            shared_faces = dict['faces']\n",
    "            if len(shared_faces) > 0:\n",
    "                for shared_face in shared_faces:\n",
    "                    total_area += Face.Area(shared_face)\n",
    "                \n",
    "                #Topology.Show(shared_faces,edges_a, edges_b, faceColor=\"red\", renderer=renderer)\n",
    "                print(\"  Cells\",i+1, j+1,\"share\", total_area,\"sq.m.\")\n",
    "            else:\n",
    "                print(\"X Cells\",i+1, j+1,\"do not share any faces.\")\n",
    "                #Topology.Show(edges_a, edges_b, renderer=renderer)\n",
    "\n",
    "            visited.append((i,j))\n",
    "            visited.append((j,i))"
   ]
  }
 ],
 "metadata": {
  "kernelspec": {
   "display_name": "Python 3",
   "language": "python",
   "name": "python3"
  },
  "language_info": {
   "codemirror_mode": {
    "name": "ipython",
    "version": 3
   },
   "file_extension": ".py",
   "mimetype": "text/x-python",
   "name": "python",
   "nbconvert_exporter": "python",
   "pygments_lexer": "ipython3",
   "version": "3.11.9"
  }
 },
 "nbformat": 4,
 "nbformat_minor": 2
}
